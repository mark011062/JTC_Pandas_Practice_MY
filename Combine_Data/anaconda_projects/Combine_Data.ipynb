{
 "cells": [
  {
   "cell_type": "code",
   "execution_count": 2,
   "id": "8cc2973d-0228-4eac-afd9-9e95e44d22cb",
   "metadata": {},
   "outputs": [],
   "source": [
    "import pandas as pd"
   ]
  },
  {
   "cell_type": "code",
   "execution_count": 8,
   "id": "5d8ce074-17d0-4b84-a41c-a19ef2f00812",
   "metadata": {},
   "outputs": [],
   "source": [
    "import pandas as pd"
   ]
  },
  {
   "cell_type": "code",
   "execution_count": 14,
   "id": "8157af4c-f7c8-423f-a881-17855bf408d9",
   "metadata": {},
   "outputs": [],
   "source": [
    "air_quality_no2 = pd.read_csv(\"data/air_quality_no2_long.csv\", parse_dates=True)"
   ]
  },
  {
   "cell_type": "code",
   "execution_count": 16,
   "id": "ffbaa328-7e8b-4690-9484-87a799fb7644",
   "metadata": {},
   "outputs": [],
   "source": [
    "air_quality_no2 = air_quality_no2[[\"date.utc\", \"location\",\n",
    "                                   \"parameter\", \"value\"]]\n"
   ]
  },
  {
   "cell_type": "code",
   "execution_count": 18,
   "id": "0a5b5bb7-af0d-4589-b290-53173ce251a0",
   "metadata": {},
   "outputs": [
    {
     "data": {
      "text/html": [
       "<div>\n",
       "<style scoped>\n",
       "    .dataframe tbody tr th:only-of-type {\n",
       "        vertical-align: middle;\n",
       "    }\n",
       "\n",
       "    .dataframe tbody tr th {\n",
       "        vertical-align: top;\n",
       "    }\n",
       "\n",
       "    .dataframe thead th {\n",
       "        text-align: right;\n",
       "    }\n",
       "</style>\n",
       "<table border=\"1\" class=\"dataframe\">\n",
       "  <thead>\n",
       "    <tr style=\"text-align: right;\">\n",
       "      <th></th>\n",
       "      <th>date.utc</th>\n",
       "      <th>location</th>\n",
       "      <th>parameter</th>\n",
       "      <th>value</th>\n",
       "    </tr>\n",
       "  </thead>\n",
       "  <tbody>\n",
       "    <tr>\n",
       "      <th>0</th>\n",
       "      <td>2019-06-21 00:00:00+00:00</td>\n",
       "      <td>FR04014</td>\n",
       "      <td>no2</td>\n",
       "      <td>20.0</td>\n",
       "    </tr>\n",
       "    <tr>\n",
       "      <th>1</th>\n",
       "      <td>2019-06-20 23:00:00+00:00</td>\n",
       "      <td>FR04014</td>\n",
       "      <td>no2</td>\n",
       "      <td>21.8</td>\n",
       "    </tr>\n",
       "    <tr>\n",
       "      <th>2</th>\n",
       "      <td>2019-06-20 22:00:00+00:00</td>\n",
       "      <td>FR04014</td>\n",
       "      <td>no2</td>\n",
       "      <td>26.5</td>\n",
       "    </tr>\n",
       "    <tr>\n",
       "      <th>3</th>\n",
       "      <td>2019-06-20 21:00:00+00:00</td>\n",
       "      <td>FR04014</td>\n",
       "      <td>no2</td>\n",
       "      <td>24.9</td>\n",
       "    </tr>\n",
       "    <tr>\n",
       "      <th>4</th>\n",
       "      <td>2019-06-20 20:00:00+00:00</td>\n",
       "      <td>FR04014</td>\n",
       "      <td>no2</td>\n",
       "      <td>21.4</td>\n",
       "    </tr>\n",
       "  </tbody>\n",
       "</table>\n",
       "</div>"
      ],
      "text/plain": [
       "                    date.utc location parameter  value\n",
       "0  2019-06-21 00:00:00+00:00  FR04014       no2   20.0\n",
       "1  2019-06-20 23:00:00+00:00  FR04014       no2   21.8\n",
       "2  2019-06-20 22:00:00+00:00  FR04014       no2   26.5\n",
       "3  2019-06-20 21:00:00+00:00  FR04014       no2   24.9\n",
       "4  2019-06-20 20:00:00+00:00  FR04014       no2   21.4"
      ]
     },
     "execution_count": 18,
     "metadata": {},
     "output_type": "execute_result"
    }
   ],
   "source": [
    "air_quality_no2.head()"
   ]
  },
  {
   "cell_type": "code",
   "execution_count": 24,
   "id": "9d2f43bb-24ad-4208-91db-bc6df8d801ba",
   "metadata": {},
   "outputs": [],
   "source": [
    "air_quality_pm25 = pd.read_csv(\"data/air_quality_pm25_long.csv\",\n",
    "                               parse_dates=True)\n"
   ]
  },
  {
   "cell_type": "code",
   "execution_count": 26,
   "id": "53d0edc1-072e-4ce6-a388-16dcd43183e1",
   "metadata": {},
   "outputs": [],
   "source": [
    "air_quality_pm25 = air_quality_pm25[[\"date.utc\", \"location\",\n",
    "                                     \"parameter\", \"value\"]]"
   ]
  },
  {
   "cell_type": "code",
   "execution_count": 28,
   "id": "1ac245a9-4739-4a60-abdf-335adf87da2b",
   "metadata": {},
   "outputs": [
    {
     "data": {
      "text/html": [
       "<div>\n",
       "<style scoped>\n",
       "    .dataframe tbody tr th:only-of-type {\n",
       "        vertical-align: middle;\n",
       "    }\n",
       "\n",
       "    .dataframe tbody tr th {\n",
       "        vertical-align: top;\n",
       "    }\n",
       "\n",
       "    .dataframe thead th {\n",
       "        text-align: right;\n",
       "    }\n",
       "</style>\n",
       "<table border=\"1\" class=\"dataframe\">\n",
       "  <thead>\n",
       "    <tr style=\"text-align: right;\">\n",
       "      <th></th>\n",
       "      <th>date.utc</th>\n",
       "      <th>location</th>\n",
       "      <th>parameter</th>\n",
       "      <th>value</th>\n",
       "    </tr>\n",
       "  </thead>\n",
       "  <tbody>\n",
       "    <tr>\n",
       "      <th>0</th>\n",
       "      <td>2019-06-18 06:00:00+00:00</td>\n",
       "      <td>BETR801</td>\n",
       "      <td>pm25</td>\n",
       "      <td>18.0</td>\n",
       "    </tr>\n",
       "    <tr>\n",
       "      <th>1</th>\n",
       "      <td>2019-06-17 08:00:00+00:00</td>\n",
       "      <td>BETR801</td>\n",
       "      <td>pm25</td>\n",
       "      <td>6.5</td>\n",
       "    </tr>\n",
       "    <tr>\n",
       "      <th>2</th>\n",
       "      <td>2019-06-17 07:00:00+00:00</td>\n",
       "      <td>BETR801</td>\n",
       "      <td>pm25</td>\n",
       "      <td>18.5</td>\n",
       "    </tr>\n",
       "    <tr>\n",
       "      <th>3</th>\n",
       "      <td>2019-06-17 06:00:00+00:00</td>\n",
       "      <td>BETR801</td>\n",
       "      <td>pm25</td>\n",
       "      <td>16.0</td>\n",
       "    </tr>\n",
       "    <tr>\n",
       "      <th>4</th>\n",
       "      <td>2019-06-17 05:00:00+00:00</td>\n",
       "      <td>BETR801</td>\n",
       "      <td>pm25</td>\n",
       "      <td>7.5</td>\n",
       "    </tr>\n",
       "  </tbody>\n",
       "</table>\n",
       "</div>"
      ],
      "text/plain": [
       "                    date.utc location parameter  value\n",
       "0  2019-06-18 06:00:00+00:00  BETR801      pm25   18.0\n",
       "1  2019-06-17 08:00:00+00:00  BETR801      pm25    6.5\n",
       "2  2019-06-17 07:00:00+00:00  BETR801      pm25   18.5\n",
       "3  2019-06-17 06:00:00+00:00  BETR801      pm25   16.0\n",
       "4  2019-06-17 05:00:00+00:00  BETR801      pm25    7.5"
      ]
     },
     "execution_count": 28,
     "metadata": {},
     "output_type": "execute_result"
    }
   ],
   "source": [
    "air_quality_pm25.head()"
   ]
  },
  {
   "cell_type": "code",
   "execution_count": 30,
   "id": "139b12e9-6f07-4258-83ce-c6fd2e056c87",
   "metadata": {},
   "outputs": [],
   "source": [
    "air_quality = pd.concat([air_quality_pm25, air_quality_no2], axis=0)"
   ]
  },
  {
   "cell_type": "code",
   "execution_count": 32,
   "id": "505223d6-6f6e-4e9a-88eb-af342fa390af",
   "metadata": {},
   "outputs": [
    {
     "data": {
      "text/html": [
       "<div>\n",
       "<style scoped>\n",
       "    .dataframe tbody tr th:only-of-type {\n",
       "        vertical-align: middle;\n",
       "    }\n",
       "\n",
       "    .dataframe tbody tr th {\n",
       "        vertical-align: top;\n",
       "    }\n",
       "\n",
       "    .dataframe thead th {\n",
       "        text-align: right;\n",
       "    }\n",
       "</style>\n",
       "<table border=\"1\" class=\"dataframe\">\n",
       "  <thead>\n",
       "    <tr style=\"text-align: right;\">\n",
       "      <th></th>\n",
       "      <th>date.utc</th>\n",
       "      <th>location</th>\n",
       "      <th>parameter</th>\n",
       "      <th>value</th>\n",
       "    </tr>\n",
       "  </thead>\n",
       "  <tbody>\n",
       "    <tr>\n",
       "      <th>0</th>\n",
       "      <td>2019-06-18 06:00:00+00:00</td>\n",
       "      <td>BETR801</td>\n",
       "      <td>pm25</td>\n",
       "      <td>18.0</td>\n",
       "    </tr>\n",
       "    <tr>\n",
       "      <th>1</th>\n",
       "      <td>2019-06-17 08:00:00+00:00</td>\n",
       "      <td>BETR801</td>\n",
       "      <td>pm25</td>\n",
       "      <td>6.5</td>\n",
       "    </tr>\n",
       "    <tr>\n",
       "      <th>2</th>\n",
       "      <td>2019-06-17 07:00:00+00:00</td>\n",
       "      <td>BETR801</td>\n",
       "      <td>pm25</td>\n",
       "      <td>18.5</td>\n",
       "    </tr>\n",
       "    <tr>\n",
       "      <th>3</th>\n",
       "      <td>2019-06-17 06:00:00+00:00</td>\n",
       "      <td>BETR801</td>\n",
       "      <td>pm25</td>\n",
       "      <td>16.0</td>\n",
       "    </tr>\n",
       "    <tr>\n",
       "      <th>4</th>\n",
       "      <td>2019-06-17 05:00:00+00:00</td>\n",
       "      <td>BETR801</td>\n",
       "      <td>pm25</td>\n",
       "      <td>7.5</td>\n",
       "    </tr>\n",
       "  </tbody>\n",
       "</table>\n",
       "</div>"
      ],
      "text/plain": [
       "                    date.utc location parameter  value\n",
       "0  2019-06-18 06:00:00+00:00  BETR801      pm25   18.0\n",
       "1  2019-06-17 08:00:00+00:00  BETR801      pm25    6.5\n",
       "2  2019-06-17 07:00:00+00:00  BETR801      pm25   18.5\n",
       "3  2019-06-17 06:00:00+00:00  BETR801      pm25   16.0\n",
       "4  2019-06-17 05:00:00+00:00  BETR801      pm25    7.5"
      ]
     },
     "execution_count": 32,
     "metadata": {},
     "output_type": "execute_result"
    }
   ],
   "source": [
    "air_quality.head()"
   ]
  },
  {
   "cell_type": "code",
   "execution_count": 38,
   "id": "30d0fe24-f1cd-4cc3-a4be-eb9538ae0008",
   "metadata": {},
   "outputs": [
    {
     "name": "stdout",
     "output_type": "stream",
     "text": [
      "Shape of the ``air_quality_pm25`` table:  (1110, 4)\n"
     ]
    }
   ],
   "source": [
    "print('Shape of the ``air_quality_pm25`` table: ', air_quality_pm25.shape)\n"
   ]
  },
  {
   "cell_type": "code",
   "execution_count": 40,
   "id": "9731333f-107b-4a6f-a35a-9e9158bdca9e",
   "metadata": {},
   "outputs": [
    {
     "name": "stdout",
     "output_type": "stream",
     "text": [
      "Shape of the ``air_quality_no2`` table:  (2068, 4)\n"
     ]
    }
   ],
   "source": [
    "print('Shape of the ``air_quality_no2`` table: ', air_quality_no2.shape)"
   ]
  },
  {
   "cell_type": "code",
   "execution_count": 42,
   "id": "9b131f84-07d0-4325-b73d-433ab7035374",
   "metadata": {},
   "outputs": [
    {
     "name": "stdout",
     "output_type": "stream",
     "text": [
      "Shape of the resulting ``air_quality`` table:  (3178, 4)\n"
     ]
    }
   ],
   "source": [
    "print('Shape of the resulting ``air_quality`` table: ', air_quality.shape)"
   ]
  },
  {
   "cell_type": "code",
   "execution_count": 44,
   "id": "48c6961f-c34b-4ac9-b516-ef0f4a97cbdf",
   "metadata": {},
   "outputs": [],
   "source": [
    "air_quality = air_quality.sort_values(\"date.utc\")\n"
   ]
  },
  {
   "cell_type": "code",
   "execution_count": 46,
   "id": "b0786cbb-a0aa-4eb3-b532-7bea3da3ecf2",
   "metadata": {},
   "outputs": [
    {
     "data": {
      "text/html": [
       "<div>\n",
       "<style scoped>\n",
       "    .dataframe tbody tr th:only-of-type {\n",
       "        vertical-align: middle;\n",
       "    }\n",
       "\n",
       "    .dataframe tbody tr th {\n",
       "        vertical-align: top;\n",
       "    }\n",
       "\n",
       "    .dataframe thead th {\n",
       "        text-align: right;\n",
       "    }\n",
       "</style>\n",
       "<table border=\"1\" class=\"dataframe\">\n",
       "  <thead>\n",
       "    <tr style=\"text-align: right;\">\n",
       "      <th></th>\n",
       "      <th>date.utc</th>\n",
       "      <th>location</th>\n",
       "      <th>parameter</th>\n",
       "      <th>value</th>\n",
       "    </tr>\n",
       "  </thead>\n",
       "  <tbody>\n",
       "    <tr>\n",
       "      <th>2067</th>\n",
       "      <td>2019-05-07 01:00:00+00:00</td>\n",
       "      <td>London Westminster</td>\n",
       "      <td>no2</td>\n",
       "      <td>23.0</td>\n",
       "    </tr>\n",
       "    <tr>\n",
       "      <th>1003</th>\n",
       "      <td>2019-05-07 01:00:00+00:00</td>\n",
       "      <td>FR04014</td>\n",
       "      <td>no2</td>\n",
       "      <td>25.0</td>\n",
       "    </tr>\n",
       "    <tr>\n",
       "      <th>100</th>\n",
       "      <td>2019-05-07 01:00:00+00:00</td>\n",
       "      <td>BETR801</td>\n",
       "      <td>pm25</td>\n",
       "      <td>12.5</td>\n",
       "    </tr>\n",
       "    <tr>\n",
       "      <th>1098</th>\n",
       "      <td>2019-05-07 01:00:00+00:00</td>\n",
       "      <td>BETR801</td>\n",
       "      <td>no2</td>\n",
       "      <td>50.5</td>\n",
       "    </tr>\n",
       "    <tr>\n",
       "      <th>1109</th>\n",
       "      <td>2019-05-07 01:00:00+00:00</td>\n",
       "      <td>London Westminster</td>\n",
       "      <td>pm25</td>\n",
       "      <td>8.0</td>\n",
       "    </tr>\n",
       "  </tbody>\n",
       "</table>\n",
       "</div>"
      ],
      "text/plain": [
       "                       date.utc            location parameter  value\n",
       "2067  2019-05-07 01:00:00+00:00  London Westminster       no2   23.0\n",
       "1003  2019-05-07 01:00:00+00:00             FR04014       no2   25.0\n",
       "100   2019-05-07 01:00:00+00:00             BETR801      pm25   12.5\n",
       "1098  2019-05-07 01:00:00+00:00             BETR801       no2   50.5\n",
       "1109  2019-05-07 01:00:00+00:00  London Westminster      pm25    8.0"
      ]
     },
     "execution_count": 46,
     "metadata": {},
     "output_type": "execute_result"
    }
   ],
   "source": [
    "air_quality.head()"
   ]
  },
  {
   "cell_type": "code",
   "execution_count": 48,
   "id": "35e807ad-fd66-42a6-bb3f-497610ba58a3",
   "metadata": {},
   "outputs": [],
   "source": [
    "air_quality_ = pd.concat([air_quality_pm25, air_quality_no2], keys=[\"PM25\", \"NO2\"])"
   ]
  },
  {
   "cell_type": "code",
   "execution_count": 50,
   "id": "bba7571d-60aa-4764-92b1-c89e5733c3d2",
   "metadata": {},
   "outputs": [
    {
     "data": {
      "text/html": [
       "<div>\n",
       "<style scoped>\n",
       "    .dataframe tbody tr th:only-of-type {\n",
       "        vertical-align: middle;\n",
       "    }\n",
       "\n",
       "    .dataframe tbody tr th {\n",
       "        vertical-align: top;\n",
       "    }\n",
       "\n",
       "    .dataframe thead th {\n",
       "        text-align: right;\n",
       "    }\n",
       "</style>\n",
       "<table border=\"1\" class=\"dataframe\">\n",
       "  <thead>\n",
       "    <tr style=\"text-align: right;\">\n",
       "      <th></th>\n",
       "      <th></th>\n",
       "      <th>date.utc</th>\n",
       "      <th>location</th>\n",
       "      <th>parameter</th>\n",
       "      <th>value</th>\n",
       "    </tr>\n",
       "  </thead>\n",
       "  <tbody>\n",
       "    <tr>\n",
       "      <th rowspan=\"5\" valign=\"top\">PM25</th>\n",
       "      <th>0</th>\n",
       "      <td>2019-06-18 06:00:00+00:00</td>\n",
       "      <td>BETR801</td>\n",
       "      <td>pm25</td>\n",
       "      <td>18.0</td>\n",
       "    </tr>\n",
       "    <tr>\n",
       "      <th>1</th>\n",
       "      <td>2019-06-17 08:00:00+00:00</td>\n",
       "      <td>BETR801</td>\n",
       "      <td>pm25</td>\n",
       "      <td>6.5</td>\n",
       "    </tr>\n",
       "    <tr>\n",
       "      <th>2</th>\n",
       "      <td>2019-06-17 07:00:00+00:00</td>\n",
       "      <td>BETR801</td>\n",
       "      <td>pm25</td>\n",
       "      <td>18.5</td>\n",
       "    </tr>\n",
       "    <tr>\n",
       "      <th>3</th>\n",
       "      <td>2019-06-17 06:00:00+00:00</td>\n",
       "      <td>BETR801</td>\n",
       "      <td>pm25</td>\n",
       "      <td>16.0</td>\n",
       "    </tr>\n",
       "    <tr>\n",
       "      <th>4</th>\n",
       "      <td>2019-06-17 05:00:00+00:00</td>\n",
       "      <td>BETR801</td>\n",
       "      <td>pm25</td>\n",
       "      <td>7.5</td>\n",
       "    </tr>\n",
       "  </tbody>\n",
       "</table>\n",
       "</div>"
      ],
      "text/plain": [
       "                         date.utc location parameter  value\n",
       "PM25 0  2019-06-18 06:00:00+00:00  BETR801      pm25   18.0\n",
       "     1  2019-06-17 08:00:00+00:00  BETR801      pm25    6.5\n",
       "     2  2019-06-17 07:00:00+00:00  BETR801      pm25   18.5\n",
       "     3  2019-06-17 06:00:00+00:00  BETR801      pm25   16.0\n",
       "     4  2019-06-17 05:00:00+00:00  BETR801      pm25    7.5"
      ]
     },
     "execution_count": 50,
     "metadata": {},
     "output_type": "execute_result"
    }
   ],
   "source": [
    "air_quality_.head()"
   ]
  },
  {
   "cell_type": "code",
   "execution_count": 52,
   "id": "9db594af-ecd1-4fd4-8923-fc1a781a863d",
   "metadata": {},
   "outputs": [],
   "source": [
    "stations_coord = pd.read_csv(\"data/air_quality_stations.csv\")\n"
   ]
  },
  {
   "cell_type": "code",
   "execution_count": 54,
   "id": "b0e84d3b-9c91-4a98-af0d-d4fdbf0fbd01",
   "metadata": {},
   "outputs": [
    {
     "data": {
      "text/html": [
       "<div>\n",
       "<style scoped>\n",
       "    .dataframe tbody tr th:only-of-type {\n",
       "        vertical-align: middle;\n",
       "    }\n",
       "\n",
       "    .dataframe tbody tr th {\n",
       "        vertical-align: top;\n",
       "    }\n",
       "\n",
       "    .dataframe thead th {\n",
       "        text-align: right;\n",
       "    }\n",
       "</style>\n",
       "<table border=\"1\" class=\"dataframe\">\n",
       "  <thead>\n",
       "    <tr style=\"text-align: right;\">\n",
       "      <th></th>\n",
       "      <th>location</th>\n",
       "      <th>coordinates.latitude</th>\n",
       "      <th>coordinates.longitude</th>\n",
       "    </tr>\n",
       "  </thead>\n",
       "  <tbody>\n",
       "    <tr>\n",
       "      <th>0</th>\n",
       "      <td>BELAL01</td>\n",
       "      <td>51.23619</td>\n",
       "      <td>4.38522</td>\n",
       "    </tr>\n",
       "    <tr>\n",
       "      <th>1</th>\n",
       "      <td>BELHB23</td>\n",
       "      <td>51.17030</td>\n",
       "      <td>4.34100</td>\n",
       "    </tr>\n",
       "    <tr>\n",
       "      <th>2</th>\n",
       "      <td>BELLD01</td>\n",
       "      <td>51.10998</td>\n",
       "      <td>5.00486</td>\n",
       "    </tr>\n",
       "    <tr>\n",
       "      <th>3</th>\n",
       "      <td>BELLD02</td>\n",
       "      <td>51.12038</td>\n",
       "      <td>5.02155</td>\n",
       "    </tr>\n",
       "    <tr>\n",
       "      <th>4</th>\n",
       "      <td>BELR833</td>\n",
       "      <td>51.32766</td>\n",
       "      <td>4.36226</td>\n",
       "    </tr>\n",
       "  </tbody>\n",
       "</table>\n",
       "</div>"
      ],
      "text/plain": [
       "  location  coordinates.latitude  coordinates.longitude\n",
       "0  BELAL01              51.23619                4.38522\n",
       "1  BELHB23              51.17030                4.34100\n",
       "2  BELLD01              51.10998                5.00486\n",
       "3  BELLD02              51.12038                5.02155\n",
       "4  BELR833              51.32766                4.36226"
      ]
     },
     "execution_count": 54,
     "metadata": {},
     "output_type": "execute_result"
    }
   ],
   "source": [
    "stations_coord.head()"
   ]
  },
  {
   "cell_type": "code",
   "execution_count": 56,
   "id": "3fa3919c-a965-439f-b3af-d12daddb46dd",
   "metadata": {},
   "outputs": [
    {
     "data": {
      "text/html": [
       "<div>\n",
       "<style scoped>\n",
       "    .dataframe tbody tr th:only-of-type {\n",
       "        vertical-align: middle;\n",
       "    }\n",
       "\n",
       "    .dataframe tbody tr th {\n",
       "        vertical-align: top;\n",
       "    }\n",
       "\n",
       "    .dataframe thead th {\n",
       "        text-align: right;\n",
       "    }\n",
       "</style>\n",
       "<table border=\"1\" class=\"dataframe\">\n",
       "  <thead>\n",
       "    <tr style=\"text-align: right;\">\n",
       "      <th></th>\n",
       "      <th>date.utc</th>\n",
       "      <th>location</th>\n",
       "      <th>parameter</th>\n",
       "      <th>value</th>\n",
       "    </tr>\n",
       "  </thead>\n",
       "  <tbody>\n",
       "    <tr>\n",
       "      <th>2067</th>\n",
       "      <td>2019-05-07 01:00:00+00:00</td>\n",
       "      <td>London Westminster</td>\n",
       "      <td>no2</td>\n",
       "      <td>23.0</td>\n",
       "    </tr>\n",
       "    <tr>\n",
       "      <th>1003</th>\n",
       "      <td>2019-05-07 01:00:00+00:00</td>\n",
       "      <td>FR04014</td>\n",
       "      <td>no2</td>\n",
       "      <td>25.0</td>\n",
       "    </tr>\n",
       "    <tr>\n",
       "      <th>100</th>\n",
       "      <td>2019-05-07 01:00:00+00:00</td>\n",
       "      <td>BETR801</td>\n",
       "      <td>pm25</td>\n",
       "      <td>12.5</td>\n",
       "    </tr>\n",
       "    <tr>\n",
       "      <th>1098</th>\n",
       "      <td>2019-05-07 01:00:00+00:00</td>\n",
       "      <td>BETR801</td>\n",
       "      <td>no2</td>\n",
       "      <td>50.5</td>\n",
       "    </tr>\n",
       "    <tr>\n",
       "      <th>1109</th>\n",
       "      <td>2019-05-07 01:00:00+00:00</td>\n",
       "      <td>London Westminster</td>\n",
       "      <td>pm25</td>\n",
       "      <td>8.0</td>\n",
       "    </tr>\n",
       "  </tbody>\n",
       "</table>\n",
       "</div>"
      ],
      "text/plain": [
       "                       date.utc            location parameter  value\n",
       "2067  2019-05-07 01:00:00+00:00  London Westminster       no2   23.0\n",
       "1003  2019-05-07 01:00:00+00:00             FR04014       no2   25.0\n",
       "100   2019-05-07 01:00:00+00:00             BETR801      pm25   12.5\n",
       "1098  2019-05-07 01:00:00+00:00             BETR801       no2   50.5\n",
       "1109  2019-05-07 01:00:00+00:00  London Westminster      pm25    8.0"
      ]
     },
     "execution_count": 56,
     "metadata": {},
     "output_type": "execute_result"
    }
   ],
   "source": [
    "air_quality.head()"
   ]
  },
  {
   "cell_type": "code",
   "execution_count": 58,
   "id": "5a4fa1ff-13d1-49f2-81c6-f3a7c1c1cdbb",
   "metadata": {},
   "outputs": [],
   "source": [
    "air_quality = pd.merge(air_quality, stations_coord, how=\"left\", on=\"location\")\n"
   ]
  },
  {
   "cell_type": "code",
   "execution_count": 60,
   "id": "5793bd77-956a-4d1f-8097-9366cea02d9f",
   "metadata": {},
   "outputs": [
    {
     "data": {
      "text/html": [
       "<div>\n",
       "<style scoped>\n",
       "    .dataframe tbody tr th:only-of-type {\n",
       "        vertical-align: middle;\n",
       "    }\n",
       "\n",
       "    .dataframe tbody tr th {\n",
       "        vertical-align: top;\n",
       "    }\n",
       "\n",
       "    .dataframe thead th {\n",
       "        text-align: right;\n",
       "    }\n",
       "</style>\n",
       "<table border=\"1\" class=\"dataframe\">\n",
       "  <thead>\n",
       "    <tr style=\"text-align: right;\">\n",
       "      <th></th>\n",
       "      <th>date.utc</th>\n",
       "      <th>location</th>\n",
       "      <th>parameter</th>\n",
       "      <th>value</th>\n",
       "      <th>coordinates.latitude</th>\n",
       "      <th>coordinates.longitude</th>\n",
       "    </tr>\n",
       "  </thead>\n",
       "  <tbody>\n",
       "    <tr>\n",
       "      <th>0</th>\n",
       "      <td>2019-05-07 01:00:00+00:00</td>\n",
       "      <td>London Westminster</td>\n",
       "      <td>no2</td>\n",
       "      <td>23.0</td>\n",
       "      <td>51.49467</td>\n",
       "      <td>-0.13193</td>\n",
       "    </tr>\n",
       "    <tr>\n",
       "      <th>1</th>\n",
       "      <td>2019-05-07 01:00:00+00:00</td>\n",
       "      <td>FR04014</td>\n",
       "      <td>no2</td>\n",
       "      <td>25.0</td>\n",
       "      <td>48.83724</td>\n",
       "      <td>2.39390</td>\n",
       "    </tr>\n",
       "    <tr>\n",
       "      <th>2</th>\n",
       "      <td>2019-05-07 01:00:00+00:00</td>\n",
       "      <td>FR04014</td>\n",
       "      <td>no2</td>\n",
       "      <td>25.0</td>\n",
       "      <td>48.83722</td>\n",
       "      <td>2.39390</td>\n",
       "    </tr>\n",
       "    <tr>\n",
       "      <th>3</th>\n",
       "      <td>2019-05-07 01:00:00+00:00</td>\n",
       "      <td>BETR801</td>\n",
       "      <td>pm25</td>\n",
       "      <td>12.5</td>\n",
       "      <td>51.20966</td>\n",
       "      <td>4.43182</td>\n",
       "    </tr>\n",
       "    <tr>\n",
       "      <th>4</th>\n",
       "      <td>2019-05-07 01:00:00+00:00</td>\n",
       "      <td>BETR801</td>\n",
       "      <td>no2</td>\n",
       "      <td>50.5</td>\n",
       "      <td>51.20966</td>\n",
       "      <td>4.43182</td>\n",
       "    </tr>\n",
       "  </tbody>\n",
       "</table>\n",
       "</div>"
      ],
      "text/plain": [
       "                    date.utc            location parameter  value  \\\n",
       "0  2019-05-07 01:00:00+00:00  London Westminster       no2   23.0   \n",
       "1  2019-05-07 01:00:00+00:00             FR04014       no2   25.0   \n",
       "2  2019-05-07 01:00:00+00:00             FR04014       no2   25.0   \n",
       "3  2019-05-07 01:00:00+00:00             BETR801      pm25   12.5   \n",
       "4  2019-05-07 01:00:00+00:00             BETR801       no2   50.5   \n",
       "\n",
       "   coordinates.latitude  coordinates.longitude  \n",
       "0              51.49467               -0.13193  \n",
       "1              48.83724                2.39390  \n",
       "2              48.83722                2.39390  \n",
       "3              51.20966                4.43182  \n",
       "4              51.20966                4.43182  "
      ]
     },
     "execution_count": 60,
     "metadata": {},
     "output_type": "execute_result"
    }
   ],
   "source": [
    "air_quality.head()"
   ]
  },
  {
   "cell_type": "code",
   "execution_count": null,
   "id": "f52e7228-d7ee-4639-b472-64f50c4a440d",
   "metadata": {},
   "outputs": [],
   "source": []
  }
 ],
 "metadata": {
  "kernelspec": {
   "display_name": "Python [conda env:base] *",
   "language": "python",
   "name": "conda-base-py"
  },
  "language_info": {
   "codemirror_mode": {
    "name": "ipython",
    "version": 3
   },
   "file_extension": ".py",
   "mimetype": "text/x-python",
   "name": "python",
   "nbconvert_exporter": "python",
   "pygments_lexer": "ipython3",
   "version": "3.11.5"
  }
 },
 "nbformat": 4,
 "nbformat_minor": 5
}
